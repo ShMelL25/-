{
  "nbformat": 4,
  "nbformat_minor": 0,
  "metadata": {
    "colab": {
      "provenance": []
    },
    "kernelspec": {
      "name": "python3",
      "display_name": "Python 3"
    },
    "language_info": {
      "name": "python"
    },
    "accelerator": "GPU",
    "gpuClass": "standard"
  },
  "cells": [
    {
      "cell_type": "code",
      "execution_count": 141,
      "metadata": {
        "id": "3P96-x78RCo5"
      },
      "outputs": [],
      "source": [
        "from tensorflow.keras.datasets import mnist\n",
        "import matplotlib.pyplot as plt\n",
        "import seaborn as sns\n",
        "import numpy as np\n"
      ]
    },
    {
      "cell_type": "code",
      "source": [
        "(X_train, y_train), (X_test, y_test) = mnist.load_data()"
      ],
      "metadata": {
        "id": "ifWDuovERIMc"
      },
      "execution_count": 142,
      "outputs": []
    },
    {
      "cell_type": "code",
      "source": [
        "print(f'X_train: {X_train.shape}')\n",
        "print(f'y_train: {y_train.shape}')\n",
        "print(f'X_test: {X_test.shape}')\n",
        "print(f'y_test: {y_test.shape}')"
      ],
      "metadata": {
        "colab": {
          "base_uri": "https://localhost:8080/"
        },
        "id": "g1fnxQ87T5Z3",
        "outputId": "f3a4fcc3-25ed-4bee-94a3-106b851c3a91"
      },
      "execution_count": 143,
      "outputs": [
        {
          "output_type": "stream",
          "name": "stdout",
          "text": [
            "X_train: (60000, 28, 28)\n",
            "y_train: (60000,)\n",
            "X_test: (10000, 28, 28)\n",
            "y_test: (10000,)\n"
          ]
        }
      ]
    },
    {
      "cell_type": "code",
      "source": [
        "plt.figure(figsize=(30, 10))\n",
        "for i in range(20):\n",
        "    plt.subplot(4,10,i+1)\n",
        "    plt.imshow(X_train[i,:].reshape([28,28]), cmap='gray')"
      ],
      "metadata": {
        "colab": {
          "base_uri": "https://localhost:8080/",
          "height": 209
        },
        "id": "s_mGk0rTUL0I",
        "outputId": "45366234-c9bc-4d10-c26b-cc1e7eb035e5"
      },
      "execution_count": 144,
      "outputs": [
        {
          "output_type": "display_data",
          "data": {
            "text/plain": [
              "<Figure size 2160x720 with 20 Axes>"
            ],
            "image/png": "[encoded data removed]"
          },
          "metadata": {
            "needs_background": "light"
          }
        }
      ]
    },
    {
      "cell_type": "code",
      "source": [
        "X_train = X_train.reshape((60000, 28, 28, 1))\n",
        "X_test = X_test.reshape((10000, 28, 28, 1))\n",
        "\n",
        "print(f'X_train: {X_train.shape}')\n",
        "print(f'X_test: {X_test.shape}')\n"
      ],
      "metadata": {
        "colab": {
          "base_uri": "https://localhost:8080/"
        },
        "id": "Wcj8q6P9U2Lp",
        "outputId": "35761e92-b5ff-462e-e89e-2a45ddb19307"
      },
      "execution_count": 145,
      "outputs": [
        {
          "output_type": "stream",
          "name": "stdout",
          "text": [
            "X_train: (60000, 28, 28, 1)\n",
            "X_test: (10000, 28, 28, 1)\n"
          ]
        }
      ]
    },
    {
      "cell_type": "code",
      "source": [
        "# Преобразовали данные от 0 до 1, тип данных float\n",
        "X_train = X_train.astype('float32') / 255\n",
        "X_test = X_test.astype('float32') / 255"
      ],
      "metadata": {
        "id": "sXzIbQN4VNUz"
      },
      "execution_count": 146,
      "outputs": []
    },
    {
      "cell_type": "markdown",
      "source": [
        "Модуль tensorflow.keras.utils предоставляет функцию to_categorical\n",
        "для выполнения прямого унитарного кодирования. Функция подсчитывает\n",
        "\n",
        "уникальные категории, а затем для каждого закодированного элемента соз-\n",
        "дает массив соответствующей длины со значением 1.0 в нужной позиции.\n",
        "\n",
        "Преобразуем y_train и y_test из одномерных массивов со значениями 0–9\n",
        "в двумерные массивы категорийных данных. После этого строки массивов\n",
        "будут выглядеть так, как показано выше. Фрагмент [21] выводит категорийные\n",
        "данные одного образца для цифры 5 (напомним, что NumPy выводит точку, но\n",
        "не выводит завершающие нули в значениях с плавающей точкой):"
      ],
      "metadata": {
        "id": "crMT9iT-YCv9"
      }
    },
    {
      "cell_type": "code",
      "source": [
        " from tensorflow.keras.utils import to_categorical"
      ],
      "metadata": {
        "id": "rlh25ek-VNXd"
      },
      "execution_count": 147,
      "outputs": []
    },
    {
      "cell_type": "code",
      "source": [
        "y_train = to_categorical(y_train)\n",
        "y_test = to_categorical(y_test)\n",
        "\n",
        "print(f'y_train: {y_train.shape}')\n",
        "print(f'y_test: {y_test.shape}')"
      ],
      "metadata": {
        "id": "D7nbbDrTVNZk",
        "colab": {
          "base_uri": "https://localhost:8080/"
        },
        "outputId": "c3884fae-349a-44c3-808d-76f6cfad441f"
      },
      "execution_count": 148,
      "outputs": [
        {
          "output_type": "stream",
          "name": "stdout",
          "text": [
            "y_train: (60000, 10)\n",
            "y_test: (10000, 10)\n"
          ]
        }
      ]
    },
    {
      "cell_type": "markdown",
      "source": [
        "15.6.4. Создание нейронной сети\n"
      ],
      "metadata": {
        "id": "j_mw7bemyeaw"
      }
    },
    {
      "cell_type": "markdown",
      "source": [
        "Итак, данные подготовлены, и мы можем переходить к настройке сверточной \n",
        "нейронной сети. Начнем с модели Keras Sequential из модуля tensorflow.\n",
        "keras.models: "
      ],
      "metadata": {
        "id": "grED5-uByrAi"
      }
    },
    {
      "cell_type": "code",
      "source": [
        "from tensorflow.keras.models import Sequential"
      ],
      "metadata": {
        "id": "z1Az_aCFVNb6"
      },
      "execution_count": 149,
      "outputs": []
    },
    {
      "cell_type": "code",
      "source": [
        "cnn = Sequential()"
      ],
      "metadata": {
        "id": "VGjCMX49VNeG"
      },
      "execution_count": 150,
      "outputs": []
    },
    {
      "cell_type": "markdown",
      "source": [
        "Полученная сеть будет выполнять свои уровни последовательно — выход \n",
        "одного уровня станет входом другого; такие сети также называются сетями \n",
        "прямого распространения. Как будет показано при обсуждении рекуррентных \n",
        "нейронных сетей, не все нейронные сети работают по этому принципу."
      ],
      "metadata": {
        "id": "mxGSJo6Ly8uO"
      }
    },
    {
      "cell_type": "markdown",
      "source": [
        "Типичная сверточная нейронная сеть состоит из нескольких уровней — вход\u0002ного уровня, получающего обучающие образцы скрытых уровней, которые \n",
        "обучаются по образцам, и выходного уровня, генерирующего вероятности \n",
        "прогнозов. Теперь создадим простейшую сверточную сеть. Импортируем из \n",
        "модуля tensorflow.keras.layers классы уровней, которые будут использо\u0002ваться в этом примере:"
      ],
      "metadata": {
        "id": "JYiuyGOLzBit"
      }
    },
    {
      "cell_type": "code",
      "source": [
        "from tensorflow.keras.layers import Conv2D, Dense, Flatten, MaxPooling2D"
      ],
      "metadata": {
        "id": "DnKeC0DSVNgZ"
      },
      "execution_count": 151,
      "outputs": []
    },
    {
      "cell_type": "markdown",
      "source": [
        "Добавление сверточного уровня\n",
        "Добавим в модель сверточный уровень Conv2D:"
      ],
      "metadata": {
        "id": "QPTebDJL0H9y"
      }
    },
    {
      "cell_type": "code",
      "source": [
        "cnn.add(Conv2D(filters=64, kernel_size=(3, 3), activation='relu', input_shape=(28, 28, 1)))"
      ],
      "metadata": {
        "id": "mq_n82UpVNid"
      },
      "execution_count": 152,
      "outputs": []
    },
    {
      "cell_type": "markdown",
      "source": [
        "Уровень Conv2D настраивается следующими аргументами:\n",
        "\n",
        "Ø filters=64 — количество фильтров в итоговой карте признаков;\n",
        "\n",
        "Ø kernel_size=(3, 3) — размер ядра, используемого в каждом фильтре;\n",
        "\n",
        "Ø activation='relu' — для получения вывода уровня используется функ\u0002ция активации 'relu' (Rectified Linear Unit). 'relu' — наиболее часто \n",
        "используемая функция активации в современных сетях глубокого обу\u0002чения2\n",
        "; она просто вычисляется, что хорошо отражается на быстродей\u0002ствии3\n",
        ". Чаще всего для сверточных уровней рекомендуется использовать \n",
        "именно эту функцию4.\n",
        "\n",
        "Tак как это первый уровень модели, мы также передаем аргумент input_\n",
        "shape=(28, 28,1) для определения размерности каждого образца. При этом \n",
        "автоматически создается входной уровень для загрузки образцов и передачи их \n",
        "уровню Conv2D, который является первым скрытым уровнем. В Keras каждый \n",
        "последующий уровень определяет свое значение input_shape по выходным \n",
        "данным предыдущего уровня, что упрощает наложение уровней. "
      ],
      "metadata": {
        "id": "NCyW4AN70YSL"
      }
    },
    {
      "cell_type": "code",
      "source": [
        "#Выход предыдущего уровня сокращается с 26 × 26 × 64 до 13 × 13 × 641.\n",
        "cnn.add(MaxPooling2D(pool_size=(2, 2)))\n",
        "# Добавим второй сверточный уровень со 128 фильт\u0002рами, за которым следует второй объединяющий уровень для сокращения степени размерности на 75%:\n",
        "cnn.add(Conv2D(filters=128, kernel_size=(3, 3), activation='relu'))\n",
        "cnn.add(MaxPooling2D(pool_size=(2, 2)))"
      ],
      "metadata": {
        "id": "A_dMSGgeVNlR"
      },
      "execution_count": 153,
      "outputs": []
    },
    {
      "cell_type": "markdown",
      "source": [
        "Входом второго сверточного уровня является выход 13 × 13 × 64 первого \n",
        "объединяющего уровня. Таким образом, выход фрагмента [29] будет иметь \n",
        "размеры 11 × 11 × 128. Для нечетных размеров (например, 11 × 11) объеди\u0002няющие уровни Keras по умолчанию используют округление вниз (в данном случае до 11 × 11), так что выход этого объединяющего уровня будет иметь \n",
        "размеры 5 × 5 × 128."
      ],
      "metadata": {
        "id": "ICdrG25V2qvk"
      }
    },
    {
      "cell_type": "markdown",
      "source": [
        "На текущий момент выход предыдущего уровня является трехмерным \n",
        "(5 × 5 × 128), но на выходе модель должна выдавать одномерный массив 10 ве\u0002роятностей классификации цифр. Для подготовки одномерных прогнозов \n",
        "сначала необходимо преобразовать трехмерный выход предыдущего уровня \n",
        "к одному измерению. Уровень Keras Flatten преобразует свой вход к одному \n",
        "измерению. В данном случае выход уровня Flatten будет иметь размеры \n",
        "1 × 3200 (то есть 5*5*128):\n"
      ],
      "metadata": {
        "id": "J_muq_Oz3Axj"
      }
    },
    {
      "cell_type": "code",
      "source": [
        "cnn.add(Flatten())"
      ],
      "metadata": {
        "id": "Wes2-Hep2vhU"
      },
      "execution_count": 154,
      "outputs": []
    },
    {
      "cell_type": "markdown",
      "source": [
        "Добавление уровня Dense для сокращения \n",
        "количества признаков\n",
        "\n",
        "Уровни, предшествующие уровню Flatten, изучали признаки цифр. Теперь \n",
        "необходимо взять все эти признаки и изучить отношения между ними, чтобы \n",
        "наша модель могла определить, какую цифру представляет то или иное изо\u0002бражение. Изучение отношений между признаками и проведение классифи\u0002кации достигается в полносвязных уровнях Dense наподобие изображенных \n",
        "на диаграмме нейронной сети ранее в этой главе. Следующий уровень Dense\n",
        "создает 128 нейронов (блоков), обучающихся на 3200 выходных значениях \n",
        "предыдущего уровня:"
      ],
      "metadata": {
        "id": "VAXef7Kh3QfN"
      }
    },
    {
      "cell_type": "code",
      "source": [
        "cnn.add(Dense(units=128, activation='relu'))"
      ],
      "metadata": {
        "id": "lA5OhTeZ2wl9"
      },
      "execution_count": 155,
      "outputs": []
    },
    {
      "cell_type": "markdown",
      "source": [
        "Добавление еще одного уровня Dense для получения \n",
        "итогового результата\n",
        "\n",
        "Последним уровнем нашей сети будет уровень Dense, который классифицирует \n",
        "свои входные данные по нейронам, представляющим классы от 0 до 9. Функция \n",
        "активации softmax преобразует значения 10 нейронов в классификационные \n",
        "вероятности. Нейрон, производящий наибольшую вероятность, представляет \n",
        "прогноз для заданного изображения:"
      ],
      "metadata": {
        "id": "Un62yiJw4G6D"
      }
    },
    {
      "cell_type": "code",
      "source": [
        "cnn.add(Dense(units=10, activation='softmax'))"
      ],
      "metadata": {
        "id": "16g0pAuY2wi1"
      },
      "execution_count": 156,
      "outputs": []
    },
    {
      "cell_type": "markdown",
      "source": [
        "Метод summary модели выводит информацию об уровнях модели. В частности, \n",
        "здесь можно найти интересную информацию о размерах выходных данных \n",
        "разных уровней и количестве параметров."
      ],
      "metadata": {
        "id": "U0daT8ze4xtb"
      }
    },
    {
      "cell_type": "code",
      "source": [
        "cnn.summary()"
      ],
      "metadata": {
        "colab": {
          "base_uri": "https://localhost:8080/"
        },
        "id": "ChPByCSS2wgi",
        "outputId": "1267c17b-f15d-42fb-acdc-32b759b03a23"
      },
      "execution_count": 157,
      "outputs": [
        {
          "output_type": "stream",
          "name": "stdout",
          "text": [
            "Model: \"sequential_4\"\n",
            "_________________________________________________________________\n",
            " Layer (type)                Output Shape              Param #   \n",
            "=================================================================\n",
            " conv2d_8 (Conv2D)           (None, 26, 26, 64)        640       \n",
            "                                                                 \n",
            " max_pooling2d_8 (MaxPooling  (None, 13, 13, 64)       0         \n",
            " 2D)                                                             \n",
            "                                                                 \n",
            " conv2d_9 (Conv2D)           (None, 11, 11, 128)       73856     \n",
            "                                                                 \n",
            " max_pooling2d_9 (MaxPooling  (None, 5, 5, 128)        0         \n",
            " 2D)                                                             \n",
            "                                                                 \n",
            " flatten_4 (Flatten)         (None, 3200)              0         \n",
            "                                                                 \n",
            " dense_8 (Dense)             (None, 128)               409728    \n",
            "                                                                 \n",
            " dense_9 (Dense)             (None, 10)                1290      \n",
            "                                                                 \n",
            "=================================================================\n",
            "Total params: 485,514\n",
            "Trainable params: 485,514\n",
            "Non-trainable params: 0\n",
            "_________________________________________________________________\n"
          ]
        }
      ]
    },
    {
      "cell_type": "markdown",
      "source": [
        "После сохранения результата в файле convnet.png мы используем класс Image\n",
        "модуля IPython.display для отображения результата в документе Notebook. \n",
        "Keras назначает имена уровней на диаграмме2\n",
        ":"
      ],
      "metadata": {
        "id": "frHrDOIQ5dPY"
      }
    },
    {
      "cell_type": "code",
      "source": [
        "from tensorflow.keras.utils import plot_model\n",
        "from IPython.display import Image\n",
        "\n",
        "plot_model(cnn, to_file='convnet.png', show_shapes=True, \n",
        "show_layer_names=True)\n",
        "Image(filename='convnet.png')"
      ],
      "metadata": {
        "colab": {
          "base_uri": "https://localhost:8080/",
          "height": 865
        },
        "id": "parlVPs_2wdb",
        "outputId": "998307b7-88ea-4c1d-8215-99345e47b350"
      },
      "execution_count": 158,
      "outputs": [
        {
          "output_type": "execute_result",
          "data": {
            "image/png": "[encoded data removed]",
            "text/plain": [
              "<IPython.core.display.Image object>"
            ]
          },
          "metadata": {},
          "execution_count": 158
        }
      ]
    },
    {
      "cell_type": "markdown",
      "source": [
        "Компиляция модели\n",
        "\n",
        "После добавления всех уровней построение модели завершается вызовом \n",
        "метода compile:"
      ],
      "metadata": {
        "id": "IPLyBs0o5vkF"
      }
    },
    {
      "cell_type": "code",
      "source": [
        "cnn.compile(optimizer='adam', loss='categorical_crossentropy', metrics=['accuracy'])"
      ],
      "metadata": {
        "id": "FAjNSHg82wb6"
      },
      "execution_count": 159,
      "outputs": []
    },
    {
      "cell_type": "markdown",
      "source": [
        "Аргументы:\n",
        "\n",
        "Ø optimizer='adam' — оптимизатор, используемый моделью для регули\u0002ровки весов в нейронной сети в процессе обучения. Отметим, что суще\u0002ствует много подходящих оптимизаторов1\n",
        ", в частности, 'adam' показыва\u0002ет неплохие результаты в широком спектре моделей2,3\n",
        ".\n",
        "\n",
        "Ø loss='categorical_crossentropy' — функция потерь, используемая оп\u0002тимизатором в сетях множественной классификации (таких, как наша \n",
        "сверточная сеть), которая будет прогнозировать 10 классов. В процессе \n",
        "обучения нейронной сети оптимизатор пытается минимизировать зна\u0002чения, возвращаемые функцией потерь. Чем ниже потери, тем лучше \n",
        "справляется нейронная сеть с прогнозированием. Для бинарной клас\u0002сификации (которая будет использоваться позднее в этой главе) Keras \n",
        "предоставляет функцию 'binary_crossentropy', а для регрессии — 'mean_\n",
        "squared_error'. За информацией о других функциях потерь обращайтесь \n",
        "по адресу:\n",
        "https://keras.io/losses/.\n",
        "\n",
        "Ø metrics=['accuracy'] — список метрик, которые будут производиться \n",
        "сетью, для того чтобы упростить вам оценку модели. Точность — популяр\u0002ная метрика, часто используемая в классификационных моделях. В этом \n",
        "примере мы воспользуемся метрикой точности для проверки процента \n",
        "правильных прогнозов. Список других метрик доступен по адресу:\n",
        "https://keras.io/metrics/"
      ],
      "metadata": {
        "id": "yGF6H7HB51oc"
      }
    },
    {
      "cell_type": "markdown",
      "source": [
        "**15.6.5. Обучение и оценка модели**\n",
        "\n",
        "По аналогии с моделями scikit-learn обучим модель Keras вызовом ее мето\u0002да fit:"
      ],
      "metadata": {
        "id": "jSVcpNRk6EPX"
      }
    },
    {
      "cell_type": "markdown",
      "source": [
        "Ø Как и в Scikit-learn, в первых двух аргументах передаются обучающие \n",
        "данные и категорийные метки целей.\n",
        "\n",
        "Ø Аргумент epochs сообщает, сколько раз модель должна обработать весь \n",
        "набор обучающих данных. Напомним, обучение нейронных сетей прохо\u0002дит в итеративном режиме.\n",
        "\n",
        "Ø Аргумент batch_size задает количество образцов, обрабатываемых за \n",
        "один раз в каждой эпохе. Для большинства моделей выбирается сте\u0002пень 2 от 32 до 512. Более высокие значения могут привести к сниже\u0002нию точности модели1\n",
        ". Мы выбрали значение 64. Вы можете опробо\u0002вать разные значения и определить, как они влияют на эффективность \n",
        "модели.\n",
        "\n",
        "Ø В общем случае некоторые образцы должны использоваться для провер\u0002ки модели. Если вы укажете проверочные данные, то после каждой эпохи \n",
        "модель использует их для построения прогнозов и вывода проверочных \n",
        "значений потерь и точности. Вы можете изучить эти модели для настрой\u0002ки ваших уровней и гиперпараметров метода fit или, возможно, для из\u0002менения структуры уровней модели. В данном случае мы использовали \n",
        "аргумент validation_split для обозначения того, что модель должна за\u0002резервировать последние 10% (0.1) обучающих образцов для проверки2\n",
        ", — \n",
        "в данном случае 6000 образцов будут использованы для проверки. Если \n",
        "у вас имеются отдельные проверочные данные, то аргумент validation_\n",
        "data (см. раздел 15.9) может использоваться для передачи кортежа с мас\u0002сивами образцов и целевых меток. В общем случае лучше использовать \n",
        "случайно выбранные проверочные данные. Для этой цели можно восполь\u0002зоваться функцией train_test_split библиотеки scikit-learn (как это бу\u0002дет сделано позднее в этой главе), после чего передать случайно выбран\u0002ные данные в аргументе validation_data.\n",
        "\n",
        "В следующем выводе точность обучения (acc) и точность проверки (val_acc) \n",
        "выделены жирным шрифтом:"
      ],
      "metadata": {
        "id": "elGejR2I6JAx"
      }
    },
    {
      "cell_type": "code",
      "source": [
        "cnn.fit(X_train, y_train, epochs=5, batch_size=15, validation_split=0.1)"
      ],
      "metadata": {
        "colab": {
          "base_uri": "https://localhost:8080/"
        },
        "id": "DEWytxX82wY4",
        "outputId": "8d1ca246-ec0d-4ba2-8f9f-a0dade7ea204"
      },
      "execution_count": 160,
      "outputs": [
        {
          "output_type": "stream",
          "name": "stdout",
          "text": [
            "Epoch 1/5\n",
            "3600/3600 [==============================] - 14s 4ms/step - loss: 0.1072 - accuracy: 0.9664 - val_loss: 0.0404 - val_accuracy: 0.9882\n",
            "Epoch 2/5\n",
            "3600/3600 [==============================] - 13s 4ms/step - loss: 0.0411 - accuracy: 0.9871 - val_loss: 0.0511 - val_accuracy: 0.9862\n",
            "Epoch 3/5\n",
            "3600/3600 [==============================] - 13s 4ms/step - loss: 0.0265 - accuracy: 0.9914 - val_loss: 0.0439 - val_accuracy: 0.9877\n",
            "Epoch 4/5\n",
            "3600/3600 [==============================] - 13s 4ms/step - loss: 0.0193 - accuracy: 0.9938 - val_loss: 0.0344 - val_accuracy: 0.9915\n",
            "Epoch 5/5\n",
            "3600/3600 [==============================] - 13s 4ms/step - loss: 0.0134 - accuracy: 0.9957 - val_loss: 0.0464 - val_accuracy: 0.9902\n"
          ]
        },
        {
          "output_type": "execute_result",
          "data": {
            "text/plain": [
              "<keras.callbacks.History at 0x7f914a570e20>"
            ]
          },
          "metadata": {},
          "execution_count": 160
        }
      ]
    },
    {
      "cell_type": "markdown",
      "source": [
        "В процессе обучения метод fit выводит различную информацию: прогресс\n",
        "каждой эпохи, длительность выполнения эпохи (в нашем случае каждая зани-\n",
        "мала 63–70 секунд) и оценочные метрики для текущего прохода. В последней\n",
        "эпохе этой модели точность достигла 99,48% для обучающих образцов (acc)\n",
        "и 99,27% для проверочных образцов (val_acc). Впечатляющие показатели,\n",
        "особенно если учесть, что мы еще не пытались настраивать гиперпараметры\n",
        "или подбирать количество и типы уровней, что может улучшить (или ухуд-\n",
        "шить) результаты. Как и машинное обучение, глубокое обучение является\n",
        "эмпирической дисциплиной, в которой большое количество экспериментов\n",
        "приносит пользу."
      ],
      "metadata": {
        "id": "ceqnjSyaoy4y"
      }
    },
    {
      "cell_type": "markdown",
      "source": [
        "**Оценка модели**\n",
        "\n",
        "Теперь точность модели можно проверить на данных, неизвестных модели.\n",
        "Для этого вызовем метод evaluate модели, который выводит продолжительность обработки тестовых образцов (4 секунды и 366 микросекунд в данном\n",
        "случае):"
      ],
      "metadata": {
        "id": "MNxKG07_pcEk"
      }
    },
    {
      "cell_type": "code",
      "source": [
        "loss, accuracy = cnn.evaluate(X_test, y_test)"
      ],
      "metadata": {
        "id": "TA1kJLjy2wTx",
        "colab": {
          "base_uri": "https://localhost:8080/"
        },
        "outputId": "1d54e1ab-de65-4721-b630-fe9e72537254"
      },
      "execution_count": 161,
      "outputs": [
        {
          "output_type": "stream",
          "name": "stdout",
          "text": [
            "313/313 [==============================] - 1s 3ms/step - loss: 0.0393 - accuracy: 0.9895\n"
          ]
        }
      ]
    },
    {
      "cell_type": "code",
      "source": [
        "print(f'loss: {loss:.4}')\n",
        "print(f'accuracy: {accuracy:.4}')"
      ],
      "metadata": {
        "id": "wg1Jjqch2wSI",
        "colab": {
          "base_uri": "https://localhost:8080/"
        },
        "outputId": "7249f462-3a0a-4363-d2ee-b1fa205b3b8d"
      },
      "execution_count": 162,
      "outputs": [
        {
          "output_type": "stream",
          "name": "stdout",
          "text": [
            "loss: 0.03933\n",
            "accuracy: 0.9895\n"
          ]
        }
      ]
    },
    {
      "cell_type": "markdown",
      "source": [
        "Из этого вывода следует, что наша модель сверточных нейронных сетей обеспе-\n",
        "чивает точность 99,17% при прогнозировании меток для незнакомых данных,\n",
        "хотя мы еще даже не пытались настраивать модель. Поиски в интернете по-\n",
        "зволяют отыскать модели, способные прогнозировать данные MNIST с почти\n",
        "100-процентной точностью. Попробуйте поэкспериментировать с разными\n",
        "уровнями, типами уровней и их параметрами, наблюдая за тем, как эти из-\n",
        "менения влияют на результаты."
      ],
      "metadata": {
        "id": "fB4X50oKqlJ3"
      }
    },
    {
      "cell_type": "markdown",
      "source": [
        "**Построение прогнозов**\n",
        "\n",
        "Метод predict модели прогнозирует классы изображений цифр из своего\n",
        "аргумента-массива (X_test):"
      ],
      "metadata": {
        "id": "fJTuwiAFr55X"
      }
    },
    {
      "cell_type": "code",
      "source": [
        "y_pred = cnn.predict(X_test)"
      ],
      "metadata": {
        "colab": {
          "base_uri": "https://localhost:8080/"
        },
        "id": "qIRA3OLNqHUH",
        "outputId": "794bb4c1-9774-4dce-805f-0c374ce7c621"
      },
      "execution_count": 163,
      "outputs": [
        {
          "output_type": "stream",
          "name": "stdout",
          "text": [
            "313/313 [==============================] - 1s 2ms/step\n"
          ]
        }
      ]
    },
    {
      "cell_type": "code",
      "source": [
        "y_test[1]"
      ],
      "metadata": {
        "colab": {
          "base_uri": "https://localhost:8080/"
        },
        "id": "UuC0egvgsamW",
        "outputId": "f3fbfd81-10b6-4f0c-bcb2-2b54b7e41c0f"
      },
      "execution_count": 164,
      "outputs": [
        {
          "output_type": "execute_result",
          "data": {
            "text/plain": [
              "array([0., 0., 1., 0., 0., 0., 0., 0., 0., 0.], dtype=float32)"
            ]
          },
          "metadata": {},
          "execution_count": 164
        }
      ]
    },
    {
      "cell_type": "code",
      "source": [
        "for index, probability in enumerate(y_pred[2]):\n",
        "  print(f'{index}: {probability:.0%}')"
      ],
      "metadata": {
        "colab": {
          "base_uri": "https://localhost:8080/"
        },
        "id": "UmxkyM2ssFD3",
        "outputId": "1e999702-aec6-4706-f89b-b777669b21d9"
      },
      "execution_count": 165,
      "outputs": [
        {
          "output_type": "stream",
          "name": "stdout",
          "text": [
            "0: 0%\n",
            "1: 100%\n",
            "2: 0%\n",
            "3: 0%\n",
            "4: 0%\n",
            "5: 0%\n",
            "6: 0%\n",
            "7: 0%\n",
            "8: 0%\n",
            "9: 0%\n"
          ]
        }
      ]
    },
    {
      "cell_type": "markdown",
      "source": [
        "**Поиск неправильных прогнозов**\n",
        "\n",
        "Прежде чем просматривать ошибочные прогнозы, необходимо их найти.\n",
        "Возьмем приведенную выше строку predictions[0]. Чтобы определить, был\n",
        "ли прогноз правильным, необходимо сравнить индекс наибольшей вероят-\n",
        "ности в predictions[0] с индексом элемента, содержащего 1.0 в y_test[0].\n",
        "\n",
        "Если значения индексов совпадают, то прогноз правильный; в противном\n",
        "случае он ошибочен. Функция argmax библиотеки NumPy определяет ин-\n",
        "декс элемента с наибольшим значением в своем аргументе-массиве. Вос-\n",
        "пользуемся этой функцией для поиска ошибочных прогнозов. В следующем\n",
        "фрагменте p — массив прогнозируемых значений, а e — массив ожидаемых\n",
        "значений (ожидаемыми значениями являются метки тестовых изображений\n",
        "из набора данных):"
      ],
      "metadata": {
        "id": "MpEMlmzksv-c"
      }
    },
    {
      "cell_type": "code",
      "source": [
        "images = X_test.reshape((10000, 28, 28))\n",
        "incorrect_predictions = []\n",
        "\n",
        "for i, (p, e) in enumerate(zip(y_pred, y_test)):\n",
        "  predicted, expected = np.argmax(p), np.argmax(e)\n",
        "  if predicted != expected:\n",
        "    incorrect_predictions.append(\n",
        "    (i, images[i], predicted, expected))"
      ],
      "metadata": {
        "id": "buTQcmdCsIva"
      },
      "execution_count": 166,
      "outputs": []
    },
    {
      "cell_type": "markdown",
      "source": [
        "В этом фрагменте мы сначала изменим размеры (28, 28, 1), необходимые Keras\n",
        "для обучения, до (28, 28), требуемых Matplotlib для вывода изображений. За-\n",
        "тем список incorrect_predictions заполняется в цикле for. Мы упаковываем\n",
        "строки данных, представляющие каждый образец в массивах predictions\n",
        "и y_test, а затем перебираем их для сохранения индексов. Если результаты\n",
        "argmax для p и e различные, то это означает, что прогноз ошибочен, и к списку\n",
        "incorrect_predictions присоединяется кортеж с индексом образца, изобра-\n",
        "жением, прогнозируемым и ожидаемым значением. Следующий фрагмент\n",
        "проверяет общее количество ошибочных прогнозов (из 10 000 изображений\n",
        "тестового набора):"
      ],
      "metadata": {
        "id": "YMC4yDLZthAL"
      }
    },
    {
      "cell_type": "markdown",
      "source": [
        "**Визуализация ошибочных предсказаний**\n",
        "\n",
        "Следующий фрагмент выводит 24 неправильных изображения с указанием\n",
        "индекса каждого изображения (index), прогнозируемого значения (p) и ожи-\n",
        "даемого значения (e):"
      ],
      "metadata": {
        "id": "Lw72VRIWttu1"
      }
    },
    {
      "cell_type": "code",
      "source": [
        "figure, axes = plt.subplots(nrows=4, ncols=6, figsize=(16, 12))\n",
        "for axes, item in zip(axes.ravel(), incorrect_predictions):\n",
        "  index, image, predicted, expected = item\n",
        "  axes.imshow(image, cmap=plt.cm.gray_r)\n",
        "  axes.set_xticks([]) # remove x-axis tick marks\n",
        "  axes.set_yticks([]) # remove y-axis tick marks\n",
        "  axes.set_title(f'index: {index}\\np: {predicted}; e: {expected}')\n",
        "plt.tight_layout()"
      ],
      "metadata": {
        "colab": {
          "base_uri": "https://localhost:8080/",
          "height": 846
        },
        "id": "omVuXGUCsIsq",
        "outputId": "e355d57c-0a7c-433c-fd51-a276aaeb3b02"
      },
      "execution_count": 167,
      "outputs": [
        {
          "output_type": "display_data",
          "data": {
            "text/plain": [
              "<Figure size 1152x864 with 24 Axes>"
            ],
            "image/png": "[encoded data removed]"
          },
          "metadata": {}
        }
      ]
    },
    {
      "cell_type": "markdown",
      "source": [
        "**Вывод вероятностей для нескольких ошибочных прогнозов**\n",
        "\n",
        "Просмотрим вероятности нескольких ошибочных прогнозов. Следующая\n",
        "функция выводит вероятности заданного массива прогнозов:"
      ],
      "metadata": {
        "id": "jLA9JfzBvvMF"
      }
    },
    {
      "cell_type": "code",
      "source": [
        "def display_probabilities(prediction):\n",
        "  for index, probability in enumerate(prediction):\n",
        "    print(f'{index}: {probability:.10%}')"
      ],
      "metadata": {
        "id": "ZDln2_YssIqX"
      },
      "execution_count": 168,
      "outputs": []
    },
    {
      "cell_type": "markdown",
      "source": [
        "Хотя изображение 8 (с индексом 495) в первой строке вывода похоже на 8,\n",
        "у нашей модели возникли с ней затруднения. Как видно из следующего вывода,\n",
        "модель спрогнозировала это значение как 0, но также полагала, что с 16-процентной вероятностью это может быть 6, а с 23-процентной вероятностью — 8:"
      ],
      "metadata": {
        "id": "9RxO_a12wlUs"
      }
    },
    {
      "cell_type": "code",
      "source": [
        "display_probabilities(y_pred[18])"
      ],
      "metadata": {
        "colab": {
          "base_uri": "https://localhost:8080/"
        },
        "id": "vZDPnmPdsIoC",
        "outputId": "c9e378bb-8de2-4639-e110-67185c55e2f4"
      },
      "execution_count": 169,
      "outputs": [
        {
          "output_type": "stream",
          "name": "stdout",
          "text": [
            "0: 0.0007259612%\n",
            "1: 0.0000956668%\n",
            "2: 0.0056214441%\n",
            "3: 43.8885867596%\n",
            "4: 0.0000009141%\n",
            "5: 54.4435143471%\n",
            "6: 0.0000549615%\n",
            "7: 0.0000018711%\n",
            "8: 1.6610248014%\n",
            "9: 0.0003708915%\n"
          ]
        }
      ]
    },
    {
      "cell_type": "markdown",
      "source": [
        "Изображение 2 (с индексом 583) в первой строке спрогнозировано как 7 с вероятностью 62,7%, но модель также считала, что с 36,4-процентной вероятностью\n",
        "это может быть цифра 2:"
      ],
      "metadata": {
        "id": "L9VgNtfewvIN"
      }
    },
    {
      "cell_type": "code",
      "source": [
        "display_probabilities(y_pred[1014])"
      ],
      "metadata": {
        "colab": {
          "base_uri": "https://localhost:8080/"
        },
        "id": "v98uDdr4sIlr",
        "outputId": "7c4b9384-fa36-4329-f099-78df07a9e264"
      },
      "execution_count": 172,
      "outputs": [
        {
          "output_type": "stream",
          "name": "stdout",
          "text": [
            "0: 0.0056881596%\n",
            "1: 0.0000000046%\n",
            "2: 0.0000047885%\n",
            "3: 0.0009351044%\n",
            "4: 0.0000000777%\n",
            "5: 99.8869836330%\n",
            "6: 0.1008345629%\n",
            "7: 0.0000000312%\n",
            "8: 0.0055426859%\n",
            "9: 0.0000047668%\n"
          ]
        }
      ]
    },
    {
      "cell_type": "markdown",
      "source": [
        "**15.6.6. Сохранение и загрузка модели**\n",
        "\n",
        "Обучение моделей нейронных сетей может потребовать значительного времени. После того как вы спроектируете и протестируете подходящую модель,\n",
        "можно сохранить ее состояние. Это позволит вам загрузить ее в будущем\n",
        "для построения новых прогнозов. Иногда модели загружаются и проходят\n",
        "дальнейшее обучение для новых задач. Например, уровни нашей модели уже\n",
        "умеют распознавать такие признаки, как линии и кривые, которые также могут\n",
        "пригодиться для распознавания рукописных символов (как в наборе данных\n",
        "EMNIST). Таким образом, теоретически вы можете загрузить существующую\n",
        "модель и использовать ее как основу для построения более мощной модели. "
      ],
      "metadata": {
        "id": "v4peI83xy99Z"
      }
    },
    {
      "cell_type": "markdown",
      "source": [
        "Этот процесс называется переносом обучения1,2 — знания существующей\n",
        "модели переносятся в новую модель. Метод save моделей Keras сохраняет\n",
        "архитектуру модели и информацию состояния в формате HDF5 (Hierarchical\n",
        "Data Format). Такие файлы по умолчанию используют расширение .h5:"
      ],
      "metadata": {
        "id": "2tjteUbMzIzF"
      }
    },
    {
      "cell_type": "code",
      "source": [
        "cnn.save('mnist_cnn.h5')"
      ],
      "metadata": {
        "id": "Elv_nQlysIjI"
      },
      "execution_count": 173,
      "outputs": []
    },
    {
      "cell_type": "markdown",
      "source": [
        "Сохраненную модель можно загрузить функцией load_model из модуля\n",
        "tensorflow.keras.models:"
      ],
      "metadata": {
        "id": "yK5c8piszSr8"
      }
    },
    {
      "cell_type": "code",
      "source": [
        "from tensorflow.keras.models import load_model\n",
        "cnn = load_model('mnist_cnn.h5')"
      ],
      "metadata": {
        "id": "3KTaUM4QsIgu"
      },
      "execution_count": 177,
      "outputs": []
    },
    {
      "cell_type": "markdown",
      "source": [
        "После этого вы сможете вызывать методы модели. Например, при появлении\n",
        "дополнительных данных можно вызвать метод predict для построения новых\n",
        "прогнозов для новых данных или же вызвать fit, чтобы начать обучение с дополнительными данными. "
      ],
      "metadata": {
        "id": "8EET5-5rzcMt"
      }
    }
  ]
}