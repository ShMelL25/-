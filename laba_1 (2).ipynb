{
  "cells": [
    {
      "cell_type": "markdown",
      "source": [
        "Использование NumPy\n",
        "\n",
        "Описание работы\n",
        "\n",
        "Данная работа представлена набором заданий, которые позволят на практике узнать о возможностях библиотеки Numerical Python."
      ],
      "metadata": {
        "id": "ZcUkwqN4KK4G"
      },
      "id": "ZcUkwqN4KK4G"
    },
    {
      "cell_type": "markdown",
      "source": [
        "1. Выполнить установку и подключение библиотеки в программе на языке Python. Для этого рекомендуется использовать менеджер пакетов pip."
      ],
      "metadata": {
        "id": "7S3ZM5ivKXny"
      },
      "id": "7S3ZM5ivKXny"
    },
    {
      "cell_type": "code",
      "execution_count": null,
      "id": "8a1222f4",
      "metadata": {
        "id": "8a1222f4"
      },
      "outputs": [],
      "source": [
        "import numpy as np\n",
        "import random\n",
        "from numpy import linalg, random\n",
        "import time"
      ]
    },
    {
      "cell_type": "markdown",
      "source": [
        "2. Выполнить генерацию:\n",
        "\n"
      ],
      "metadata": {
        "id": "3AGfP6Y8Kg9e"
      },
      "id": "3AGfP6Y8Kg9e"
    },
    {
      "cell_type": "markdown",
      "source": [
        "a. линейного массива (вектора) чисел с плавающей точкой произвольного размера;"
      ],
      "metadata": {
        "id": "8endSQpOKnuy"
      },
      "id": "8endSQpOKnuy"
    },
    {
      "cell_type": "code",
      "execution_count": null,
      "id": "698fe7d4",
      "metadata": {
        "id": "698fe7d4"
      },
      "outputs": [],
      "source": [
        "arr = np.full((10, 10), 0)"
      ]
    },
    {
      "cell_type": "code",
      "execution_count": null,
      "id": "17b8ab96",
      "metadata": {
        "colab": {
          "base_uri": "https://localhost:8080/"
        },
        "id": "17b8ab96",
        "outputId": "12cb522b-008d-4f98-c218-01e0a12ff4cd"
      },
      "outputs": [
        {
          "output_type": "execute_result",
          "data": {
            "text/plain": [
              "array([[0, 0, 0, 0, 0, 0, 0, 0, 0, 0],\n",
              "       [0, 0, 0, 0, 0, 0, 0, 0, 0, 0],\n",
              "       [0, 0, 0, 0, 0, 0, 0, 0, 0, 0],\n",
              "       [0, 0, 0, 0, 0, 0, 0, 0, 0, 0],\n",
              "       [0, 0, 0, 0, 0, 0, 0, 0, 0, 0],\n",
              "       [0, 0, 0, 0, 0, 0, 0, 0, 0, 0],\n",
              "       [0, 0, 0, 0, 0, 0, 0, 0, 0, 0],\n",
              "       [0, 0, 0, 0, 0, 0, 0, 0, 0, 0],\n",
              "       [0, 0, 0, 0, 0, 0, 0, 0, 0, 0],\n",
              "       [0, 0, 0, 0, 0, 0, 0, 0, 0, 0]])"
            ]
          },
          "metadata": {},
          "execution_count": 3
        }
      ],
      "source": [
        "arr"
      ]
    },
    {
      "cell_type": "markdown",
      "source": [
        "\n",
        "b. выполнить генерацию двумерного массива (матрицы) чисел с плавающей точкой произвольного размера;"
      ],
      "metadata": {
        "id": "VzrvaJwrKuvl"
      },
      "id": "VzrvaJwrKuvl"
    },
    {
      "cell_type": "code",
      "execution_count": null,
      "id": "89ae5bac",
      "metadata": {
        "id": "89ae5bac"
      },
      "outputs": [],
      "source": [
        "arr_2 = np.linspace(1, 3, 6)\n",
        "random.shuffle(arr_2)"
      ]
    },
    {
      "cell_type": "code",
      "execution_count": null,
      "id": "82e48f49",
      "metadata": {
        "colab": {
          "base_uri": "https://localhost:8080/"
        },
        "id": "82e48f49",
        "outputId": "bd642813-2f84-4a07-d827-23fc0735bf8c"
      },
      "outputs": [
        {
          "output_type": "execute_result",
          "data": {
            "text/plain": [
              "array([[3. , 2.6, 1.4],\n",
              "       [2.2, 1. , 1.8]])"
            ]
          },
          "metadata": {},
          "execution_count": 5
        }
      ],
      "source": [
        "arr_2.reshape(2,3)"
      ]
    },
    {
      "cell_type": "markdown",
      "source": [
        "c. генерацию массивов выполнять с размерностью в сотни, тысячи, сотни тысяч элементов.\n",
        "\n",
        "d. для каждого массива выполнить оценку времени, затраченного на генерацию.\n",
        "\n",
        "e. сравнить показатели с массивами, генерируемыми средствами стандартной библиотеки языка Python аналогичной размерности."
      ],
      "metadata": {
        "id": "Otz8t4MOKz9l"
      },
      "id": "Otz8t4MOKz9l"
    },
    {
      "cell_type": "code",
      "source": [
        "arr_3 = np.arange(0,2)"
      ],
      "metadata": {
        "id": "Stp8Bc7zNr7M"
      },
      "id": "Stp8Bc7zNr7M",
      "execution_count": null,
      "outputs": []
    },
    {
      "cell_type": "code",
      "source": [
        "arr_3"
      ],
      "metadata": {
        "colab": {
          "base_uri": "https://localhost:8080/"
        },
        "id": "Hlc4_r-NN1D7",
        "outputId": "2f052b24-72ad-4f52-c913-2a1dce285aab"
      },
      "id": "Hlc4_r-NN1D7",
      "execution_count": null,
      "outputs": [
        {
          "output_type": "execute_result",
          "data": {
            "text/plain": [
              "array([0, 1])"
            ]
          },
          "metadata": {},
          "execution_count": 7
        }
      ]
    },
    {
      "cell_type": "code",
      "execution_count": null,
      "id": "e27df178",
      "metadata": {
        "colab": {
          "base_uri": "https://localhost:8080/"
        },
        "id": "e27df178",
        "outputId": "2c3bf84e-43a0-41f1-872a-9853ff34e701"
      },
      "outputs": [
        {
          "output_type": "stream",
          "name": "stdout",
          "text": [
            "CPU times: user 4 µs, sys: 1 µs, total: 5 µs\n",
            "Wall time: 8.82 µs\n"
          ]
        }
      ],
      "source": [
        "arr_3 = np.random.randint(1, 100, 100)\n",
        "%time\n"
      ]
    },
    {
      "cell_type": "code",
      "execution_count": null,
      "id": "69e072e6",
      "metadata": {
        "colab": {
          "base_uri": "https://localhost:8080/"
        },
        "id": "69e072e6",
        "outputId": "894efa86-2674-48ed-812d-907c5b0a06ac"
      },
      "outputs": [
        {
          "output_type": "stream",
          "name": "stdout",
          "text": [
            "CPU times: user 4 µs, sys: 0 ns, total: 4 µs\n",
            "Wall time: 9.54 µs\n"
          ]
        }
      ],
      "source": [
        "arr_3 = np.random.randint(1, 100, 1000)\n",
        "%time"
      ]
    },
    {
      "cell_type": "code",
      "execution_count": null,
      "id": "a9f13a11",
      "metadata": {
        "colab": {
          "base_uri": "https://localhost:8080/"
        },
        "id": "a9f13a11",
        "outputId": "1965e198-7f17-4160-b0df-24da5b2f9e78"
      },
      "outputs": [
        {
          "output_type": "stream",
          "name": "stdout",
          "text": [
            "CPU times: user 4 µs, sys: 1 µs, total: 5 µs\n",
            "Wall time: 8.82 µs\n"
          ]
        }
      ],
      "source": [
        "arr_3 = np.random.randint(1, 100, 100000)\n",
        "%time\n"
      ]
    },
    {
      "cell_type": "code",
      "execution_count": null,
      "id": "25570a40",
      "metadata": {
        "colab": {
          "base_uri": "https://localhost:8080/"
        },
        "id": "25570a40",
        "outputId": "beab63c2-b992-4a9c-d5bd-d8c5d0afb33b"
      },
      "outputs": [
        {
          "output_type": "stream",
          "name": "stdout",
          "text": [
            "CPU times: user 4 µs, sys: 1 µs, total: 5 µs\n",
            "Wall time: 8.82 µs\n"
          ]
        }
      ],
      "source": [
        "items = list(range(100))\n",
        "%time"
      ]
    },
    {
      "cell_type": "code",
      "execution_count": null,
      "id": "8b392c1a",
      "metadata": {
        "colab": {
          "base_uri": "https://localhost:8080/"
        },
        "id": "8b392c1a",
        "outputId": "97e5adf2-3954-48b8-b2e5-d23f3f3509aa"
      },
      "outputs": [
        {
          "output_type": "stream",
          "name": "stdout",
          "text": [
            "CPU times: user 4 µs, sys: 1 µs, total: 5 µs\n",
            "Wall time: 8.82 µs\n"
          ]
        }
      ],
      "source": [
        "items = list(range(1000))\n",
        "%time"
      ]
    },
    {
      "cell_type": "code",
      "execution_count": null,
      "id": "05a6eaf0",
      "metadata": {
        "colab": {
          "base_uri": "https://localhost:8080/"
        },
        "id": "05a6eaf0",
        "outputId": "5e848e63-8fe1-4a83-a297-6c39a6b1e687"
      },
      "outputs": [
        {
          "output_type": "stream",
          "name": "stdout",
          "text": [
            "CPU times: user 4 µs, sys: 1e+03 ns, total: 5 µs\n",
            "Wall time: 8.11 µs\n"
          ]
        }
      ],
      "source": [
        "items = list(range(100000))\n",
        "%time"
      ]
    },
    {
      "cell_type": "markdown",
      "source": [
        "3. Выполнить все арифметические операции над элементами двумерного массива."
      ],
      "metadata": {
        "id": "-tKGCVDodXn-"
      },
      "id": "-tKGCVDodXn-"
    },
    {
      "cell_type": "code",
      "execution_count": null,
      "id": "7175d1ef",
      "metadata": {
        "id": "7175d1ef"
      },
      "outputs": [],
      "source": [
        "x = np.random.randint(5, 50, (5, 3))\n",
        "y = np.random.randint(55, 170, (5, 3))"
      ]
    },
    {
      "cell_type": "code",
      "execution_count": null,
      "id": "978aa751",
      "metadata": {
        "colab": {
          "base_uri": "https://localhost:8080/"
        },
        "id": "978aa751",
        "outputId": "9366c0e7-0d07-4a09-bbce-301a886a950e"
      },
      "outputs": [
        {
          "output_type": "execute_result",
          "data": {
            "text/plain": [
              "array([[2822,  405,  630],\n",
              "       [1728, 2054,  994],\n",
              "       [4958, 3080, 6952],\n",
              "       [1065,  740, 1728],\n",
              "       [1254, 2378,  972]])"
            ]
          },
          "metadata": {},
          "execution_count": 15
        }
      ],
      "source": [
        "x_y = x*y\n",
        "x_y"
      ]
    },
    {
      "cell_type": "code",
      "source": [
        "x_y = x+y\n",
        "x_y"
      ],
      "metadata": {
        "colab": {
          "base_uri": "https://localhost:8080/"
        },
        "id": "ViLr9oYtNmNL",
        "outputId": "6fd41bd8-896b-4a1f-b7df-f8017efaec4e"
      },
      "id": "ViLr9oYtNmNL",
      "execution_count": null,
      "outputs": [
        {
          "output_type": "execute_result",
          "data": {
            "text/plain": [
              "array([[183,  86,  79],\n",
              "       [156, 105, 149],\n",
              "       [171, 123, 202],\n",
              "       [ 86,  84, 114],\n",
              "       [ 79, 111,  93]])"
            ]
          },
          "metadata": {},
          "execution_count": 16
        }
      ]
    },
    {
      "cell_type": "code",
      "source": [
        "x_y = x-y\n",
        "x_y"
      ],
      "metadata": {
        "colab": {
          "base_uri": "https://localhost:8080/"
        },
        "id": "sUVcagfKOAni",
        "outputId": "0df203f7-6961-4464-eacf-e1baea206d14"
      },
      "id": "sUVcagfKOAni",
      "execution_count": null,
      "outputs": [
        {
          "output_type": "execute_result",
          "data": {
            "text/plain": [
              "array([[-149,  -76,  -61],\n",
              "       [-132,  -53, -135],\n",
              "       [ -97,  -53, -114],\n",
              "       [ -56,  -64,  -78],\n",
              "       [ -35,  -53,  -69]])"
            ]
          },
          "metadata": {},
          "execution_count": 17
        }
      ]
    },
    {
      "cell_type": "code",
      "source": [
        "x_t = np.transpose(x)\n",
        "print(x)\n",
        "print(\"\")\n",
        "print(x_t)"
      ],
      "metadata": {
        "colab": {
          "base_uri": "https://localhost:8080/"
        },
        "id": "BKW630n5OAlD",
        "outputId": "23fe91c9-fb1a-45ba-e4e0-120648ad6a2b"
      },
      "id": "BKW630n5OAlD",
      "execution_count": null,
      "outputs": [
        {
          "output_type": "stream",
          "name": "stdout",
          "text": [
            "[[17  5  9]\n",
            " [12 26  7]\n",
            " [37 35 44]\n",
            " [15 10 18]\n",
            " [22 29 12]]\n",
            "\n",
            "[[17 12 37 15 22]\n",
            " [ 5 26 35 10 29]\n",
            " [ 9  7 44 18 12]]\n"
          ]
        }
      ]
    },
    {
      "cell_type": "markdown",
      "source": [
        "4. В качестве полноценного упражнения реализовать игру «Жизнь» использованием NumPy."
      ],
      "metadata": {
        "id": "Bj-Zu3FPeVqw"
      },
      "id": "Bj-Zu3FPeVqw"
    },
    {
      "cell_type": "code",
      "source": [
        "def neighbor_xy(x, y):\n",
        "    for dx, dy in {\n",
        "        (0, 1),\n",
        "        (1, 1),\n",
        "        (1, 0),\n",
        "        (1, -1),\n",
        "        (0, -1),\n",
        "        (-1, -1),\n",
        "        (-1, 0),\n",
        "        (-1, 1)\n",
        "    }:\n",
        "        yield x + dx, y + dy\n",
        "\n",
        "def show_field(field):\n",
        "    for y in range(MAX_SIZE):\n",
        "        print(f'{field[y]}')\n",
        "        \n",
        "def get_empty_field():    \n",
        "    return np.full((MAX_SIZE, MAX_SIZE), DEAD)\n",
        "        \n",
        "def is_live(field, neighbor_x, neighbor_y):\n",
        "    return 0 <= neighbor_x < MAX_SIZE and 0 <= neighbor_y < MAX_SIZE and field[neighbor_y][neighbor_x] == LIVE"
      ],
      "metadata": {
        "id": "mFvCcHQOeVW8"
      },
      "id": "mFvCcHQOeVW8",
      "execution_count": null,
      "outputs": []
    },
    {
      "cell_type": "code",
      "source": [
        "MAX_SIZE = 20\n",
        "DEAD = 0\n",
        "LIVE = 1\n",
        "field = np.random.randint(0,2,(MAX_SIZE,MAX_SIZE))\n",
        "\n",
        "while True:\n",
        "    show_field(field)\n",
        "    buffer = get_empty_field()\n",
        "    for y in range(MAX_SIZE):\n",
        "        for x in range(MAX_SIZE):\n",
        "            c = field[y][x]\n",
        "            neighbors = 0\n",
        "            for neighbor_x, neighbor_y in neighbor_xy(x, y):\n",
        "                neighbors += 1 if is_live(field, neighbor_x, neighbor_y) else 0\n",
        "                pass\n",
        "            if c == DEAD:\n",
        "                buffer[y][x] = LIVE if neighbors == 3 else DEAD\n",
        "            else:\n",
        "                buffer[y][x] = LIVE if neighbors == (2, 3) else DEAD\n",
        "                \n",
        "    if (field == buffer).all():\n",
        "        print('stasis')\n",
        "        break\n",
        "    field = buffer\n",
        "    time.sleep(2)\n",
        "    print('Next: ')"
      ],
      "metadata": {
        "colab": {
          "base_uri": "https://localhost:8080/"
        },
        "id": "kNpyuIW9wwvQ",
        "outputId": "3643ae8c-c186-403e-953d-f256831c4990"
      },
      "id": "kNpyuIW9wwvQ",
      "execution_count": null,
      "outputs": [
        {
          "output_type": "stream",
          "name": "stdout",
          "text": [
            "[0 0 1 0 0 0 1 1 0 0 1 0 1 0 0 0 0 1 0 0]\n",
            "[1 1 0 0 1 0 1 0 0 1 0 1 0 1 1 0 0 0 0 1]\n",
            "[0 1 1 0 1 0 0 0 0 0 0 1 0 0 0 0 1 0 1 1]\n",
            "[1 1 1 0 0 1 1 1 1 0 1 0 1 0 1 1 0 0 0 1]\n",
            "[1 0 0 0 0 0 1 1 0 1 0 1 0 0 1 1 0 0 1 0]\n",
            "[0 0 1 0 0 1 1 0 1 1 0 1 1 0 0 0 1 1 1 1]\n",
            "[0 1 1 0 0 0 1 0 0 1 0 0 1 1 0 0 1 0 1 1]\n",
            "[0 1 0 1 0 1 0 1 1 1 0 1 1 1 0 1 1 1 1 1]\n",
            "[1 1 0 0 1 0 1 0 1 1 0 0 0 0 0 0 0 0 0 0]\n",
            "[0 1 0 0 1 1 0 1 1 1 1 1 1 0 0 0 1 1 1 0]\n",
            "[0 1 1 1 0 1 0 1 1 0 1 0 1 0 0 1 0 0 0 0]\n",
            "[1 1 1 0 0 1 1 0 1 0 0 1 0 0 0 0 0 0 1 1]\n",
            "[0 1 0 1 1 0 0 1 0 1 0 0 1 0 1 0 1 1 1 1]\n",
            "[1 1 0 1 0 1 0 0 1 0 0 1 1 0 1 1 0 0 1 1]\n",
            "[0 1 1 1 0 1 1 0 1 0 1 0 1 0 0 0 0 1 0 1]\n",
            "[1 0 0 1 1 1 1 1 0 1 0 0 0 0 0 1 0 1 1 0]\n",
            "[0 1 1 1 1 0 1 1 1 1 0 1 1 0 0 1 1 1 1 0]\n",
            "[0 0 0 1 1 1 0 0 1 1 0 1 0 0 0 1 1 0 0 0]\n",
            "[0 1 0 0 0 1 1 1 0 0 1 0 1 1 1 1 1 0 1 1]\n",
            "[0 1 0 1 0 1 0 0 0 1 1 1 1 0 0 1 1 1 1 0]\n",
            "Next: \n",
            "[0 1 0 0 0 1 0 0 0 0 0 1 0 1 0 0 0 0 0 0]\n",
            "[0 0 0 0 0 0 0 1 0 0 0 0 0 0 0 0 0 1 0 0]\n",
            "[0 0 0 0 0 0 0 0 1 1 0 0 0 0 0 0 0 0 0 0]\n",
            "[0 0 0 1 0 0 0 0 0 1 0 0 0 1 0 0 1 1 0 0]\n",
            "[0 0 1 0 0 0 0 0 0 0 0 0 0 0 0 0 0 0 0 0]\n",
            "[0 0 0 0 0 0 0 0 0 0 0 0 0 0 1 0 0 0 0 0]\n",
            "[0 0 0 1 1 0 0 0 0 0 0 0 0 0 1 0 0 0 0 0]\n",
            "[0 0 0 0 1 0 0 0 0 0 0 0 0 0 1 0 0 0 0 0]\n",
            "[0 0 0 1 0 0 0 0 0 0 0 0 0 1 0 1 0 0 0 1]\n",
            "[0 0 0 0 0 0 0 0 0 0 0 0 0 0 0 0 0 0 0 0]\n",
            "[0 0 0 0 0 0 0 0 0 0 0 0 0 0 0 0 1 0 0 1]\n",
            "[0 0 0 0 0 0 0 0 0 0 1 0 1 1 0 1 1 0 0 0]\n",
            "[0 0 0 0 0 0 0 0 0 0 1 0 0 0 0 0 0 0 0 0]\n",
            "[0 0 0 0 0 0 0 0 0 0 1 0 0 0 0 0 0 0 0 0]\n",
            "[0 0 0 0 0 0 0 0 0 0 0 0 0 1 1 1 0 0 0 0]\n",
            "[0 0 0 0 0 0 0 0 0 0 0 0 1 0 0 0 0 0 0 1]\n",
            "[0 0 0 0 0 0 0 0 0 0 0 0 0 0 1 0 0 0 0 0]\n",
            "[0 1 0 0 0 0 0 0 0 0 0 0 0 0 0 0 0 0 0 1]\n",
            "[0 0 0 1 0 0 0 0 0 0 0 0 0 0 0 0 0 0 0 0]\n",
            "[0 0 1 0 1 0 0 0 0 0 0 0 0 0 0 0 0 0 0 1]\n",
            "Next: \n",
            "[0 0 0 0 0 0 0 0 0 0 0 0 0 0 0 0 0 0 0 0]\n",
            "[0 0 0 0 0 0 0 0 1 0 0 0 0 0 0 0 0 0 0 0]\n",
            "[0 0 0 0 0 0 0 0 0 0 0 0 0 0 0 0 1 1 0 0]\n",
            "[0 0 0 0 0 0 0 0 1 0 0 0 0 0 0 0 0 0 0 0]\n",
            "[0 0 0 0 0 0 0 0 0 0 0 0 0 0 0 0 0 0 0 0]\n",
            "[0 0 0 1 0 0 0 0 0 0 0 0 0 0 0 0 0 0 0 0]\n",
            "[0 0 0 0 0 0 0 0 0 0 0 0 0 1 0 1 0 0 0 0]\n",
            "[0 0 0 0 0 0 0 0 0 0 0 0 0 1 0 1 0 0 0 0]\n",
            "[0 0 0 0 0 0 0 0 0 0 0 0 0 0 1 0 0 0 0 0]\n",
            "[0 0 0 0 0 0 0 0 0 0 0 0 0 0 0 0 0 0 0 0]\n",
            "[0 0 0 0 0 0 0 0 0 0 0 0 0 0 0 1 0 0 0 0]\n",
            "[0 0 0 0 0 0 0 0 0 0 0 1 0 0 0 0 0 0 0 0]\n",
            "[0 0 0 0 0 0 0 0 0 1 0 0 0 0 0 0 0 0 0 0]\n",
            "[0 0 0 0 0 0 0 0 0 0 0 0 0 0 1 0 0 0 0 0]\n",
            "[0 0 0 0 0 0 0 0 0 0 0 0 0 0 0 0 0 0 0 0]\n",
            "[0 0 0 0 0 0 0 0 0 0 0 0 0 0 0 1 0 0 0 0]\n",
            "[0 0 0 0 0 0 0 0 0 0 0 0 0 0 0 0 0 0 0 0]\n",
            "[0 0 0 0 0 0 0 0 0 0 0 0 0 0 0 0 0 0 0 0]\n",
            "[0 0 1 0 0 0 0 0 0 0 0 0 0 0 0 0 0 0 0 0]\n",
            "[0 0 0 1 0 0 0 0 0 0 0 0 0 0 0 0 0 0 0 0]\n",
            "Next: \n",
            "[0 0 0 0 0 0 0 0 0 0 0 0 0 0 0 0 0 0 0 0]\n",
            "[0 0 0 0 0 0 0 0 0 0 0 0 0 0 0 0 0 0 0 0]\n",
            "[0 0 0 0 0 0 0 0 0 0 0 0 0 0 0 0 0 0 0 0]\n",
            "[0 0 0 0 0 0 0 0 0 0 0 0 0 0 0 0 0 0 0 0]\n",
            "[0 0 0 0 0 0 0 0 0 0 0 0 0 0 0 0 0 0 0 0]\n",
            "[0 0 0 0 0 0 0 0 0 0 0 0 0 0 0 0 0 0 0 0]\n",
            "[0 0 0 0 0 0 0 0 0 0 0 0 0 0 0 0 0 0 0 0]\n",
            "[0 0 0 0 0 0 0 0 0 0 0 0 0 0 0 0 0 0 0 0]\n",
            "[0 0 0 0 0 0 0 0 0 0 0 0 0 0 0 0 0 0 0 0]\n",
            "[0 0 0 0 0 0 0 0 0 0 0 0 0 0 0 0 0 0 0 0]\n",
            "[0 0 0 0 0 0 0 0 0 0 0 0 0 0 0 0 0 0 0 0]\n",
            "[0 0 0 0 0 0 0 0 0 0 0 0 0 0 0 0 0 0 0 0]\n",
            "[0 0 0 0 0 0 0 0 0 0 0 0 0 0 0 0 0 0 0 0]\n",
            "[0 0 0 0 0 0 0 0 0 0 0 0 0 0 0 0 0 0 0 0]\n",
            "[0 0 0 0 0 0 0 0 0 0 0 0 0 0 0 0 0 0 0 0]\n",
            "[0 0 0 0 0 0 0 0 0 0 0 0 0 0 0 0 0 0 0 0]\n",
            "[0 0 0 0 0 0 0 0 0 0 0 0 0 0 0 0 0 0 0 0]\n",
            "[0 0 0 0 0 0 0 0 0 0 0 0 0 0 0 0 0 0 0 0]\n",
            "[0 0 0 0 0 0 0 0 0 0 0 0 0 0 0 0 0 0 0 0]\n",
            "[0 0 0 0 0 0 0 0 0 0 0 0 0 0 0 0 0 0 0 0]\n",
            "stasis\n"
          ]
        }
      ]
    },
    {
      "cell_type": "code",
      "source": [],
      "metadata": {
        "id": "ekT5TWetxST2"
      },
      "id": "ekT5TWetxST2",
      "execution_count": null,
      "outputs": []
    },
    {
      "cell_type": "code",
      "source": [],
      "metadata": {
        "id": "oxPYafWFxIvy"
      },
      "id": "oxPYafWFxIvy",
      "execution_count": null,
      "outputs": []
    },
    {
      "cell_type": "code",
      "source": [],
      "metadata": {
        "id": "ZtGnmND_wt1h"
      },
      "id": "ZtGnmND_wt1h",
      "execution_count": null,
      "outputs": []
    },
    {
      "cell_type": "code",
      "source": [],
      "metadata": {
        "id": "ZyjrgRMcOAfM"
      },
      "id": "ZyjrgRMcOAfM",
      "execution_count": null,
      "outputs": []
    },
    {
      "cell_type": "code",
      "source": [],
      "metadata": {
        "id": "3vqbWLh1OAbd"
      },
      "id": "3vqbWLh1OAbd",
      "execution_count": null,
      "outputs": []
    },
    {
      "cell_type": "code",
      "source": [],
      "metadata": {
        "id": "PQu1ffqnOAZq"
      },
      "id": "PQu1ffqnOAZq",
      "execution_count": null,
      "outputs": []
    },
    {
      "cell_type": "code",
      "source": [],
      "metadata": {
        "id": "Yvd9oB0oOAWK"
      },
      "id": "Yvd9oB0oOAWK",
      "execution_count": null,
      "outputs": []
    },
    {
      "cell_type": "code",
      "source": [],
      "metadata": {
        "id": "F_elmwJbOAT7"
      },
      "id": "F_elmwJbOAT7",
      "execution_count": null,
      "outputs": []
    }
  ],
  "metadata": {
    "kernelspec": {
      "display_name": "Python 3 (ipykernel)",
      "language": "python",
      "name": "python3"
    },
    "language_info": {
      "codemirror_mode": {
        "name": "ipython",
        "version": 3
      },
      "file_extension": ".py",
      "mimetype": "text/x-python",
      "name": "python",
      "nbconvert_exporter": "python",
      "pygments_lexer": "ipython3",
      "version": "3.7.9"
    },
    "colab": {
      "provenance": []
    }
  },
  "nbformat": 4,
  "nbformat_minor": 5
}